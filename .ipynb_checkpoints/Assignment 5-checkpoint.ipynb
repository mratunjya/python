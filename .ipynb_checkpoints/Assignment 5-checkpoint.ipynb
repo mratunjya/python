{
 "cells": [
  {
   "cell_type": "markdown",
   "id": "ead7710b",
   "metadata": {},
   "source": [
    "# Write a python program for the following:"
   ]
  },
  {
   "cell_type": "markdown",
   "id": "31734e59",
   "metadata": {},
   "source": [
    "## A. Create a dictionary  of student record having keys as student name and marks as values from two list"
   ]
  },
  {
   "cell_type": "code",
   "execution_count": 45,
   "id": "035d645c",
   "metadata": {},
   "outputs": [
    {
     "name": "stdout",
     "output_type": "stream",
     "text": [
      "Dictionary: {'A': [20, 25, 30], 'B': [18, 29, 30], 'C': [20, 27, 38], 'D': [5, 28, 30], 'E': [21, 2, 30]}\n"
     ]
    }
   ],
   "source": [
    "Name = ['A','B','C','D','E']\n",
    "Marks = [[20,25,30],[18,29,30],[20,27,38],[5,28,30],[21,2,30]]\n",
    "\n",
    "d1 = dict(zip(Name,Marks))\n",
    "\n",
    "print(\"Dictionary:\",d1)"
   ]
  },
  {
   "cell_type": "markdown",
   "id": "9de454c5",
   "metadata": {},
   "source": [
    "## B. Find the sum of marks and print the dictionary"
   ]
  },
  {
   "cell_type": "code",
   "execution_count": 58,
   "id": "bfc797f5",
   "metadata": {},
   "outputs": [
    {
     "name": "stdout",
     "output_type": "stream",
     "text": [
      "{'A': 75, 'B': 77, 'C': 85, 'D': 63, 'E': 53}\n"
     ]
    }
   ],
   "source": [
    "M1 = []\n",
    "\n",
    "for i in range(len(Marks)):\n",
    "    sum = 0\n",
    "    for j in range(len(Marks[i])):\n",
    "        sum = sum + Marks[i][j]\n",
    "    M1.append(sum)\n",
    "    \n",
    "M2 = dict(zip(Name,M1))\n",
    "print(M2)"
   ]
  },
  {
   "cell_type": "markdown",
   "id": "7b86c7ac",
   "metadata": {},
   "source": [
    "# C. Sort the dictionary based on values in descending order"
   ]
  },
  {
   "cell_type": "code",
   "execution_count": 89,
   "id": "a81337a2",
   "metadata": {},
   "outputs": [
    {
     "name": "stdout",
     "output_type": "stream",
     "text": [
      "{'C': 85, 'B': 77, 'A': 75, 'D': 63, 'E': 53}\n"
     ]
    }
   ],
   "source": [
    "d2 = sorted(M2.items(), key=lambda x: x[1],reverse=True)\n",
    "\n",
    "M3 = dict({})\n",
    "for i in range(len(d2)):\n",
    "       M3[d2[i][0]]=d2[i][1]\n",
    "        \n",
    "print(M3)"
   ]
  },
  {
   "cell_type": "markdown",
   "id": "f0c57b99",
   "metadata": {},
   "source": [
    "# D. Consider a List L = [1,8,8,9,7,6,6,0,7,4,3,2,7]\n"
   ]
  },
  {
   "cell_type": "code",
   "execution_count": 78,
   "id": "5c87ef90",
   "metadata": {},
   "outputs": [],
   "source": [
    "L = [1,8,8,9,7,6,6,0,7,4,3,2,7]"
   ]
  },
  {
   "cell_type": "markdown",
   "id": "49f0563b",
   "metadata": {},
   "source": [
    "## 1. Convert List L into Array"
   ]
  },
  {
   "cell_type": "code",
   "execution_count": 81,
   "id": "cd2fcc04",
   "metadata": {},
   "outputs": [
    {
     "name": "stdout",
     "output_type": "stream",
     "text": [
      "[1 8 8 9 7 6 6 0 7 4 3 2 7] <class 'numpy.ndarray'>\n"
     ]
    }
   ],
   "source": [
    "import numpy as np\n",
    "\n",
    "arr = np.array(L)\n",
    "print(arr,type(arr))"
   ]
  },
  {
   "cell_type": "markdown",
   "id": "f3687dd8",
   "metadata": {},
   "source": [
    "## 2. Reverse the List using Slicing Method & Flipud Method"
   ]
  },
  {
   "cell_type": "code",
   "execution_count": 83,
   "id": "ad03d2a5",
   "metadata": {},
   "outputs": [
    {
     "name": "stdout",
     "output_type": "stream",
     "text": [
      "[7 2 3 4 7 0 6 6 7 9 8 8 1]\n",
      "[7 2 3 4 7 0 6 6 7 9 8 8 1]\n"
     ]
    }
   ],
   "source": [
    "# Slicing\n",
    "print(arr[::-1])\n",
    "\n",
    "#flipud\n",
    "print(np.flipud(arr))"
   ]
  },
  {
   "cell_type": "markdown",
   "id": "dc4fcdaf",
   "metadata": {},
   "source": [
    "## 3. Print the size of the array"
   ]
  },
  {
   "cell_type": "code",
   "execution_count": 85,
   "id": "591da435",
   "metadata": {},
   "outputs": [
    {
     "name": "stdout",
     "output_type": "stream",
     "text": [
      "Size of the array is: 13\n"
     ]
    }
   ],
   "source": [
    "print(\"Size of the array is:\",len(arr))"
   ]
  },
  {
   "cell_type": "markdown",
   "id": "00715797",
   "metadata": {},
   "source": [
    "## 4. Sort the array in ascending order"
   ]
  },
  {
   "cell_type": "code",
   "execution_count": 87,
   "id": "df161255",
   "metadata": {},
   "outputs": [
    {
     "name": "stdout",
     "output_type": "stream",
     "text": [
      "Array in ascending order: [0 1 2 3 4 6 6 7 7 7 8 8 9]\n"
     ]
    }
   ],
   "source": [
    "arr.sort()\n",
    "print(\"Array in ascending order:\",arr)"
   ]
  },
  {
   "cell_type": "markdown",
   "id": "84e86c98",
   "metadata": {},
   "source": [
    "## 5. Count the frequency of each element in the array"
   ]
  },
  {
   "cell_type": "code",
   "execution_count": 88,
   "id": "159de016",
   "metadata": {},
   "outputs": [
    {
     "name": "stdout",
     "output_type": "stream",
     "text": [
      "{0: 1, 1: 1, 2: 1, 3: 1, 4: 1, 6: 2, 7: 3, 8: 2, 9: 1}\n"
     ]
    }
   ],
   "source": [
    "s = set(arr)\n",
    "d = dict({})\n",
    "\n",
    "for i in s:\n",
    "    count = 0\n",
    "    for j in arr:\n",
    "        if i == j:\n",
    "            count = count + 1\n",
    "    d.update({i:count})\n",
    "    \n",
    "print(d)\n",
    "        "
   ]
  }
 ],
 "metadata": {
  "kernelspec": {
   "display_name": "Python 3 (ipykernel)",
   "language": "python",
   "name": "python3"
  },
  "language_info": {
   "codemirror_mode": {
    "name": "ipython",
    "version": 3
   },
   "file_extension": ".py",
   "mimetype": "text/x-python",
   "name": "python",
   "nbconvert_exporter": "python",
   "pygments_lexer": "ipython3",
   "version": "3.9.12"
  }
 },
 "nbformat": 4,
 "nbformat_minor": 5
}
