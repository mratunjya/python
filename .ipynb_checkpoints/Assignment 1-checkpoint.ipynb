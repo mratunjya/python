{
 "cells": [
  {
   "cell_type": "code",
   "execution_count": null,
   "id": "66f4fed9",
   "metadata": {},
   "outputs": [],
   "source": []
  },
  {
   "cell_type": "code",
   "execution_count": 4,
   "id": "8ccea8c6",
   "metadata": {},
   "outputs": [],
   "source": [
    "def rectangle(a,b):\n",
    "    return (a*b)\n",
    "\n",
    "def circle(r):\n",
    "    return (3.14*r*r)"
   ]
  },
  {
   "cell_type": "code",
   "execution_count": 3,
   "id": "aa633031",
   "metadata": {},
   "outputs": [
    {
     "name": "stdout",
     "output_type": "stream",
     "text": [
      "Enter 1 for Rectangle & 2 for Circle: 1\n",
      "Enter the 1st number: 1\n",
      "Enter the 2nd number: 2\n",
      "area of rectangle is:  2\n"
     ]
    }
   ],
   "source": [
    "#enter the choice for calculating area!!\n",
    "\n",
    "choice = int(input(\"Enter 1 for Rectangle & 2 for Circle: \"))\n",
    "\n",
    "if choice == 1:\n",
    "    p = int(input(\"Enter the 1st number: \"))  ##\n",
    "    q = int(input(\"Enter the 2nd number: \"))  \n",
    "    print(\"area of rectangle is: \",rectangle(p,q))\n",
    "else:\n",
    "    p = int(input(\"Enter the radius: \"))\n",
    "    print(\"area of the circle is: \",circle(p))"
   ]
  },
  {
   "cell_type": "code",
   "execution_count": null,
   "id": "01bd7318",
   "metadata": {},
   "outputs": [],
   "source": []
  }
 ],
 "metadata": {
  "kernelspec": {
   "display_name": "Python 3 (ipykernel)",
   "language": "python",
   "name": "python3"
  },
  "language_info": {
   "codemirror_mode": {
    "name": "ipython",
    "version": 3
   },
   "file_extension": ".py",
   "mimetype": "text/x-python",
   "name": "python",
   "nbconvert_exporter": "python",
   "pygments_lexer": "ipython3",
   "version": "3.9.12"
  }
 },
 "nbformat": 4,
 "nbformat_minor": 5
}
