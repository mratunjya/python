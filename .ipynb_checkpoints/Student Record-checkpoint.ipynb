{
 "cells": [
  {
   "cell_type": "markdown",
   "id": "00c6ceb8",
   "metadata": {},
   "source": [
    "# Write  a python program to create student data & perform following operations:\n",
    "\n",
    "## 1. Insert data\n",
    "## 2. Search data by roll no\n",
    "## 3. Delete data by roll no\n",
    "## 4. Sort the data by roll no"
   ]
  },
  {
   "cell_type": "code",
   "execution_count": 43,
   "id": "92b79195",
   "metadata": {},
   "outputs": [],
   "source": [
    "Student_record = []"
   ]
  },
  {
   "cell_type": "code",
   "execution_count": 44,
   "id": "3e323ee5",
   "metadata": {},
   "outputs": [],
   "source": [
    "# Searching Roll No\n",
    "\n",
    "def search_rollno(l,s):\n",
    "    for i in range(len(l)):\n",
    "            if l[i][0] == s:\n",
    "                return i\n",
    "    return -1"
   ]
  },
  {
   "cell_type": "code",
   "execution_count": null,
   "id": "6ec1d916",
   "metadata": {},
   "outputs": [
    {
     "name": "stdout",
     "output_type": "stream",
     "text": [
      "\n",
      "What do you want to do:\n",
      "\n",
      "1. Insert Student Record\n",
      "2. Search the Student\n",
      "3. Delete a Student Record\n",
      "4. Sort the Student Record\n",
      "5. Display Record\n",
      "6. Exit\n",
      "\n",
      "Enter you Choice: 1\n",
      "\n",
      "Enter the rollno: 1\n",
      "Enter the name: Akshay\n",
      "Enter the marks: 34\n",
      "\n",
      "What do you want to do:\n",
      "\n",
      "1. Insert Student Record\n",
      "2. Search the Student\n",
      "3. Delete a Student Record\n",
      "4. Sort the Student Record\n",
      "5. Display Record\n",
      "6. Exit\n",
      "\n",
      "Enter you Choice: 5\n",
      "\n",
      "Student Record:  [[1, 'Akshay', 34]]\n",
      "\n",
      "What do you want to do:\n",
      "\n",
      "1. Insert Student Record\n",
      "2. Search the Student\n",
      "3. Delete a Student Record\n",
      "4. Sort the Student Record\n",
      "5. Display Record\n",
      "6. Exit\n",
      "\n"
     ]
    }
   ],
   "source": [
    "text = \"\"\"\n",
    "What do you want to do:\n",
    "\n",
    "1. Insert Student Record\n",
    "2. Search the Student\n",
    "3. Delete a Student Record\n",
    "4. Sort the Student Record\n",
    "5. Display Record\n",
    "6. Exit\n",
    "\"\"\"\n",
    "\n",
    "while(1):\n",
    "    print(text)\n",
    "    p = int(input(\"Enter you Choice: \"))\n",
    "    \n",
    "    if(p==1):\n",
    "        roll = int(input(\"\\nEnter the rollno: \"))\n",
    "        name = input(\"Enter the name: \")\n",
    "        marks = int(input(\"Enter the marks: \"))\n",
    "        if search_rollno(Student_record,roll) == -1:\n",
    "            Student_record.append([roll,name,marks])\n",
    "        else:\n",
    "            print(\"\\nDuplicacy Found for %d roll no!! Try Again\"%roll)\n",
    "    elif(p==2):\n",
    "        s = int(input(\"\\nEnter the roll no want to search: \"))\n",
    "        if search_rollno(Student_record,s) != -1 :\n",
    "            print(\"Student Found at %d Index\"%search_rollno(Student_record,s))\n",
    "        else:\n",
    "            print(\"Student is not Found\")\n",
    "    elif(p==3):\n",
    "        roll_no = int(input(\"\\nEnter the roll no you want to remove: \"))\n",
    "        if search_rollno(Student_record,roll_no) != -1:\n",
    "            Student_record.pop(search_rollno(Student_record,roll_no))\n",
    "            print(\"Updated Student Record: \",Student_record)\n",
    "        else:\n",
    "            print(\"Roll no is not Found\")\n",
    "    elif(p==4):\n",
    "        for i in range(len(Student_record)):\n",
    "            for j in range(len(Student_record)-1-i):\n",
    "                if Student_record[j] > Student_record[j+1] : \n",
    "                    Student_record[j], Student_record[j+1] = Student_record[j+1], Student_record[j]     \n",
    "        print(\"\\nSorted Student Record: \",Student_record)\n",
    "    elif(p==5):\n",
    "        print(\"\\nStudent Record: \",Student_record)\n",
    "    elif(p==6):\n",
    "        print(\"Happy Hacking!!\")\n",
    "        break\n",
    "    else:\n",
    "        print(\"\\nError! Please enter the correct choice.\")\n",
    "    \n"
   ]
  },
  {
   "cell_type": "code",
   "execution_count": null,
   "id": "f6e93cd5",
   "metadata": {},
   "outputs": [],
   "source": []
  }
 ],
 "metadata": {
  "kernelspec": {
   "display_name": "Python 3 (ipykernel)",
   "language": "python",
   "name": "python3"
  },
  "language_info": {
   "codemirror_mode": {
    "name": "ipython",
    "version": 3
   },
   "file_extension": ".py",
   "mimetype": "text/x-python",
   "name": "python",
   "nbconvert_exporter": "python",
   "pygments_lexer": "ipython3",
   "version": "3.9.12"
  }
 },
 "nbformat": 4,
 "nbformat_minor": 5
}
