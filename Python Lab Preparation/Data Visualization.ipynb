{
 "cells": [
  {
   "cell_type": "code",
   "execution_count": 1,
   "metadata": {
    "id": "oATE2lOlzu0j"
   },
   "outputs": [],
   "source": [
    "import pandas as pd\n",
    "import matplotlib.pyplot as plt"
   ]
  },
  {
   "cell_type": "code",
   "execution_count": 2,
   "metadata": {
    "colab": {
     "base_uri": "https://localhost:8080/",
     "height": 74
    },
    "id": "NNq3UZrAzzQH",
    "outputId": "b0d820d5-a5d6-4fe2-b0d2-b6968e77b737"
   },
   "outputs": [
    {
     "ename": "ModuleNotFoundError",
     "evalue": "No module named 'google.colab'",
     "output_type": "error",
     "traceback": [
      "\u001b[1;31m---------------------------------------------------------------------------\u001b[0m",
      "\u001b[1;31mModuleNotFoundError\u001b[0m                       Traceback (most recent call last)",
      "\u001b[1;32m~\\AppData\\Local\\Temp\\ipykernel_16656\\2535520808.py\u001b[0m in \u001b[0;36m<module>\u001b[1;34m\u001b[0m\n\u001b[1;32m----> 1\u001b[1;33m \u001b[1;32mfrom\u001b[0m \u001b[0mgoogle\u001b[0m\u001b[1;33m.\u001b[0m\u001b[0mcolab\u001b[0m \u001b[1;32mimport\u001b[0m \u001b[0mfiles\u001b[0m\u001b[1;33m\u001b[0m\u001b[1;33m\u001b[0m\u001b[0m\n\u001b[0m\u001b[0;32m      2\u001b[0m \u001b[0muploaded\u001b[0m \u001b[1;33m=\u001b[0m \u001b[0mfiles\u001b[0m\u001b[1;33m.\u001b[0m\u001b[0mupload\u001b[0m\u001b[1;33m(\u001b[0m\u001b[1;33m)\u001b[0m\u001b[1;33m\u001b[0m\u001b[1;33m\u001b[0m\u001b[0m\n",
      "\u001b[1;31mModuleNotFoundError\u001b[0m: No module named 'google.colab'"
     ]
    }
   ],
   "source": [
    "from google.colab import files\n",
    "uploaded = files.upload()"
   ]
  },
  {
   "cell_type": "code",
   "execution_count": null,
   "metadata": {
    "colab": {
     "base_uri": "https://localhost:8080/",
     "height": 424
    },
    "id": "Camqtv3xzzTD",
    "outputId": "b3f72551-d5d7-49f9-a5fe-e97691d35129"
   },
   "outputs": [],
   "source": [
    "dataset = pd.read_csv(\"heart.csv\")\n",
    "dataset"
   ]
  },
  {
   "cell_type": "code",
   "execution_count": null,
   "metadata": {
    "colab": {
     "base_uri": "https://localhost:8080/",
     "height": 1000
    },
    "id": "sEXPZoZYzzV5",
    "outputId": "96609b23-2cf6-4025-c72d-e3a8d22659ee"
   },
   "outputs": [],
   "source": [
    "X = dataset.iloc[0:41, :]\n",
    "data = pd.DataFrame(X, columns = ['Age', 'RestingBP', 'Cholesterol', 'FastingBS','MaxHR', 'HeartDisease'])\n",
    "data"
   ]
  },
  {
   "cell_type": "code",
   "execution_count": null,
   "metadata": {
    "colab": {
     "base_uri": "https://localhost:8080/",
     "height": 282
    },
    "id": "Zf6uyVyfzzY2",
    "outputId": "e356cd75-6032-4783-9123-16fb6c00e408"
   },
   "outputs": [],
   "source": [
    "#Line Plot\n",
    "data.plot()"
   ]
  },
  {
   "cell_type": "code",
   "execution_count": null,
   "metadata": {
    "colab": {
     "base_uri": "https://localhost:8080/",
     "height": 386
    },
    "id": "pTZ-FzOgzzbr",
    "outputId": "76518487-1f64-43b1-8419-6f8e3492ee7a"
   },
   "outputs": [],
   "source": [
    "# Sub Plot\n",
    "data.plot(subplots = True)"
   ]
  },
  {
   "cell_type": "code",
   "execution_count": null,
   "metadata": {
    "colab": {
     "base_uri": "https://localhost:8080/",
     "height": 296
    },
    "id": "f0K2weblzzed",
    "outputId": "4d438bf1-3ffa-4282-a30a-01c404c263f4"
   },
   "outputs": [],
   "source": [
    "#Plot against two features\n",
    "data.plot(x='Age', y='RestingBP')"
   ]
  },
  {
   "cell_type": "code",
   "execution_count": null,
   "metadata": {
    "colab": {
     "base_uri": "https://localhost:8080/",
     "height": 282
    },
    "id": "nFuZjSFqzzhq",
    "outputId": "0552f4cf-a176-4666-da88-8dd0d0c29f76"
   },
   "outputs": [],
   "source": [
    "#Not to be written in file\n",
    "data.plot(kind='hist')"
   ]
  },
  {
   "cell_type": "code",
   "execution_count": null,
   "metadata": {
    "colab": {
     "base_uri": "https://localhost:8080/",
     "height": 323
    },
    "id": "wo7DY_6zzzk8",
    "outputId": "c39dd1d6-8911-4a6d-e6f4-1fd8cd4a5133"
   },
   "outputs": [],
   "source": [
    "data.plot(kind='bar', figsize=(50,10))"
   ]
  },
  {
   "cell_type": "code",
   "execution_count": null,
   "metadata": {
    "colab": {
     "base_uri": "https://localhost:8080/",
     "height": 371
    },
    "id": "KPgm9ouNzzoD",
    "outputId": "61ea9778-bcc0-48f7-dbf3-b3baf336a914"
   },
   "outputs": [],
   "source": [
    "#autopct - auto percentage - decides the angle for the pie plot\n",
    "data.groupby(['Age']).sum().plot(kind='pie',y='HeartDisease', autopct='%1.0f%%')"
   ]
  },
  {
   "cell_type": "code",
   "execution_count": null,
   "metadata": {
    "colab": {
     "base_uri": "https://localhost:8080/",
     "height": 282
    },
    "id": "rcVtTFW3zzrO",
    "outputId": "f0c86038-d2f3-4be4-d570-582b5e68a7ce"
   },
   "outputs": [],
   "source": [
    "import seaborn as sn\n",
    "import numpy as np\n",
    "data = pd.DataFrame(np.random.random((7,7)))\n",
    "sn.heatmap(data)"
   ]
  },
  {
   "cell_type": "code",
   "execution_count": null,
   "metadata": {
    "colab": {
     "base_uri": "https://localhost:8080/",
     "height": 282
    },
    "id": "su1JAKpb1GF9",
    "outputId": "023cb24e-0532-40bc-bdb8-5e2a4b87aa18"
   },
   "outputs": [],
   "source": [
    "sn.heatmap(data, annot=True, annot_kws={'size':7})"
   ]
  },
  {
   "cell_type": "code",
   "execution_count": null,
   "metadata": {
    "colab": {
     "base_uri": "https://localhost:8080/",
     "height": 920
    },
    "id": "H7I0q5T01Apv",
    "outputId": "395754d6-527b-47a5-a237-e681dae72b18"
   },
   "outputs": [],
   "source": [
    "sn.pairplot(data, hue='HeartDisease')"
   ]
  },
  {
   "cell_type": "code",
   "execution_count": null,
   "metadata": {
    "colab": {
     "base_uri": "https://localhost:8080/",
     "height": 279
    },
    "id": "JSa3mhhg1BGR",
    "outputId": "dfb8ac4b-9e3d-432b-9690-7c75da0bd607"
   },
   "outputs": [],
   "source": [
    "axes=plt.gca()\n",
    "data.plot(kind='line', x='HeartDisease', y='Age', ax=axes);\n",
    "data.plot(kind='line', x='HeartDisease', y='RestingBP', ax=axes);\n",
    "data.plot(kind='line', x='HeartDisease', y='Cholesterol', ax=axes);"
   ]
  },
  {
   "cell_type": "code",
   "execution_count": 1,
   "metadata": {
    "id": "gbzYnc-O1BMs"
   },
   "outputs": [
    {
     "name": "stdout",
     "output_type": "stream",
     "text": [
      "Note: you may need to restart the kernel to use updated packages.\n"
     ]
    },
    {
     "name": "stderr",
     "output_type": "stream",
     "text": [
      "ERROR: Could not find a version that satisfies the requirement goggle.colab (from versions: none)\n",
      "ERROR: No matching distribution found for goggle.colab\n"
     ]
    }
   ],
   "source": [
    "pip install goggle.colab"
   ]
  },
  {
   "cell_type": "code",
   "execution_count": null,
   "metadata": {},
   "outputs": [],
   "source": []
  }
 ],
 "metadata": {
  "colab": {
   "collapsed_sections": [],
   "provenance": []
  },
  "kernelspec": {
   "display_name": "Python 3 (ipykernel)",
   "language": "python",
   "name": "python3"
  },
  "language_info": {
   "codemirror_mode": {
    "name": "ipython",
    "version": 3
   },
   "file_extension": ".py",
   "mimetype": "text/x-python",
   "name": "python",
   "nbconvert_exporter": "python",
   "pygments_lexer": "ipython3",
   "version": "3.9.13"
  }
 },
 "nbformat": 4,
 "nbformat_minor": 4
}
