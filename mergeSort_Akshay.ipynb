{
 "cells": [
  {
   "cell_type": "code",
   "execution_count": 10,
   "id": "5d317a1b",
   "metadata": {},
   "outputs": [
    {
     "name": "stdout",
     "output_type": "stream",
     "text": [
      "Unsorted Array: [9 8 7 6 5 4 3 2 1]\n",
      "\n",
      "Sorted Array: [1 2 3 4 5 6 7 8 9]\n"
     ]
    }
   ],
   "source": [
    "import numpy as np\n",
    "\n",
    "def merge(arr,start,mid,end):\n",
    "    mergedArray = np.zeros(end-start+1,dtype=np.int64)\n",
    "    i = start\n",
    "    j = mid+1\n",
    "    k = 0\n",
    "    while i<=mid and j<=end:\n",
    "        if arr[i] < arr[j]:\n",
    "            mergedArray[k] = arr[i]\n",
    "            k = k + 1\n",
    "            i = i + 1\n",
    "        else:\n",
    "            mergedArray[k] = arr[j]\n",
    "            k =k + 1\n",
    "            j = j + 1\n",
    "    while i<=mid:\n",
    "        mergedArray[k] = arr[i]\n",
    "        k = k + 1\n",
    "        i = i + 1\n",
    "    while j<=end:\n",
    "        mergedArray[k] = arr[j]\n",
    "        k = k + 1\n",
    "        j = j + 1\n",
    "    \n",
    "    q = start\n",
    "    for p in range(len(mergedArray)):\n",
    "        arr[q] = mergedArray[p]\n",
    "        q = q + 1\n",
    "        \n",
    "def mergeSort(arr,start,end):\n",
    "    if end <= start:\n",
    "        return\n",
    "    mid = start + int((end-start)/2)\n",
    "    mergeSort(arr,start,mid)\n",
    "    mergeSort(arr,mid+1,end)\n",
    "    merge(arr,start,mid,end)\n",
    "    \n",
    "# Main Area\n",
    "arr = [9,8,7,6,5,4,3,2,1]\n",
    "arr = np.array(arr)\n",
    "\n",
    "print(\"Unsorted Array:\",arr)\n",
    "mergeSort(arr,0,len(arr)-1)\n",
    "print(\"\\nSorted Array:\",arr)\n"
   ]
  },
  {
   "cell_type": "code",
   "execution_count": null,
   "id": "dd8b8634",
   "metadata": {},
   "outputs": [],
   "source": []
  }
 ],
 "metadata": {
  "kernelspec": {
   "display_name": "Python 3 (ipykernel)",
   "language": "python",
   "name": "python3"
  },
  "language_info": {
   "codemirror_mode": {
    "name": "ipython",
    "version": 3
   },
   "file_extension": ".py",
   "mimetype": "text/x-python",
   "name": "python",
   "nbconvert_exporter": "python",
   "pygments_lexer": "ipython3",
   "version": "3.9.12"
  }
 },
 "nbformat": 4,
 "nbformat_minor": 5
}
