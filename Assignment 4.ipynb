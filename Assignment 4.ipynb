{
 "cells": [
  {
   "cell_type": "markdown",
   "id": "b0c2d6a0",
   "metadata": {},
   "source": [
    "# 1. Print set of natural numbers & prime numbers upto 20 & find the following:"
   ]
  },
  {
   "cell_type": "code",
   "execution_count": 4,
   "id": "7b97359a",
   "metadata": {},
   "outputs": [
    {
     "name": "stdout",
     "output_type": "stream",
     "text": [
      "S1 (Natural):  {1, 2, 3, 4, 5, 6, 7, 8, 9, 10, 11, 12, 13, 14, 15, 16, 17, 18, 19, 20} \n",
      "S2 (Prime):  {2, 3, 5, 7, 11, 13, 17, 19}\n"
     ]
    }
   ],
   "source": [
    "natural = set({})\n",
    "prime = set({})\n",
    "\n",
    "# Loop for natural number\n",
    "for i in range(1,21):\n",
    "    natural.add(i)\n",
    "\n",
    "# Loop for prime number\n",
    "for i in range(2,20):\n",
    "    count = 0\n",
    "    for j in range(2,i):\n",
    "        if i%j == 0:\n",
    "            count = 1\n",
    "            break\n",
    "    if count != 1:\n",
    "        prime.add(i)\n",
    "        \n",
    "print(\"S1 (Natural): \",natural,\"\\nS2 (Prime): \",prime)"
   ]
  },
  {
   "cell_type": "markdown",
   "id": "c4e3a414",
   "metadata": {},
   "source": [
    "## a. Set Difference"
   ]
  },
  {
   "cell_type": "code",
   "execution_count": 5,
   "id": "7ed38903",
   "metadata": {},
   "outputs": [
    {
     "name": "stdout",
     "output_type": "stream",
     "text": [
      "S1-S2: {1, 4, 6, 8, 9, 10, 12, 14, 15, 16, 18, 20} \n",
      "S2-S1: set()\n"
     ]
    }
   ],
   "source": [
    "print(\"S1-S2:\",natural.difference(prime),\"\\nS2-S1:\",prime.difference(natural))"
   ]
  },
  {
   "cell_type": "markdown",
   "id": "b87aad60",
   "metadata": {},
   "source": [
    "## b. Intersection of Sets"
   ]
  },
  {
   "cell_type": "code",
   "execution_count": 6,
   "id": "b8407349",
   "metadata": {},
   "outputs": [
    {
     "data": {
      "text/plain": [
       "{2, 3, 5, 7, 11, 13, 17, 19}"
      ]
     },
     "execution_count": 6,
     "metadata": {},
     "output_type": "execute_result"
    }
   ],
   "source": [
    "natural.intersection(prime)"
   ]
  },
  {
   "cell_type": "markdown",
   "id": "5b85aed0",
   "metadata": {},
   "source": [
    "## c. Union of Sets"
   ]
  },
  {
   "cell_type": "code",
   "execution_count": 7,
   "id": "709ff059",
   "metadata": {},
   "outputs": [
    {
     "data": {
      "text/plain": [
       "{1, 2, 3, 4, 5, 6, 7, 8, 9, 10, 11, 12, 13, 14, 15, 16, 17, 18, 19, 20}"
      ]
     },
     "execution_count": 7,
     "metadata": {},
     "output_type": "execute_result"
    }
   ],
   "source": [
    "natural.union(prime)"
   ]
  },
  {
   "cell_type": "markdown",
   "id": "cc14de46",
   "metadata": {},
   "source": [
    "# 2. Count number of unique vowels in sets"
   ]
  },
  {
   "cell_type": "code",
   "execution_count": 10,
   "id": "ac6af0b6",
   "metadata": {},
   "outputs": [
    {
     "name": "stdout",
     "output_type": "stream",
     "text": [
      "Number of vowels in the given string are:  15\n"
     ]
    }
   ],
   "source": [
    "a = \"National Institute of Technology, Raipur\"\n",
    "b = \"aeiouAEIOU\"\n",
    "s2 = set(b)\n",
    "count = 0\n",
    "\n",
    "for i in a:\n",
    "    for j in s2:\n",
    "        if i == j:\n",
    "            count = count + 1\n",
    "\n",
    "        \n",
    "print(\"Number of vowels in the given string are: \",count)"
   ]
  },
  {
   "cell_type": "markdown",
   "id": "465ea9cb",
   "metadata": {},
   "source": [
    "# 3. Convert the list into Set & Tuple"
   ]
  },
  {
   "cell_type": "code",
   "execution_count": 11,
   "id": "9364abb4",
   "metadata": {},
   "outputs": [
    {
     "name": "stdout",
     "output_type": "stream",
     "text": [
      "Set: {2, 6, 7, 8, 9}\n",
      "Tuple: (2, 9, 8, 7, 2, 6, 8, 2, 6)\n"
     ]
    }
   ],
   "source": [
    "L = [2,9,8,7,2,6,8,2,6]\n",
    "\n",
    "S = set(L)\n",
    "\n",
    "print(\"Set:\",S)\n",
    "\n",
    "T = tuple(L)\n",
    "\n",
    "print(\"Tuple:\",T)"
   ]
  },
  {
   "cell_type": "markdown",
   "id": "03a5eacf",
   "metadata": {},
   "source": [
    "# 4. Find the maximum & minimum number from set obtained from last question"
   ]
  },
  {
   "cell_type": "code",
   "execution_count": 26,
   "id": "1fb9044f",
   "metadata": {},
   "outputs": [
    {
     "name": "stdout",
     "output_type": "stream",
     "text": [
      "Maximum is:  9 \n",
      "Minimum is:  2\n"
     ]
    }
   ],
   "source": [
    "print(\"Maximum is: \",max(S),\"\\nMinimum is: \",min(S))"
   ]
  },
  {
   "cell_type": "markdown",
   "id": "a37d5e7d",
   "metadata": {},
   "source": [
    "# 5. Remove the element from set to create empty set"
   ]
  },
  {
   "cell_type": "code",
   "execution_count": 12,
   "id": "2a8313a8",
   "metadata": {},
   "outputs": [
    {
     "name": "stdout",
     "output_type": "stream",
     "text": [
      "S.clear(): set()\n"
     ]
    }
   ],
   "source": [
    "S.clear()\n",
    "\n",
    "print(\"S.clear():\",S)"
   ]
  },
  {
   "cell_type": "markdown",
   "id": "d4b99cf1",
   "metadata": {},
   "source": [
    "# 6. Check whether the given string is pangram or not"
   ]
  },
  {
   "cell_type": "code",
   "execution_count": 9,
   "id": "c9e3c797",
   "metadata": {},
   "outputs": [
    {
     "name": "stdout",
     "output_type": "stream",
     "text": [
      "Enter the String: hello45@#$ my name\n",
      "hellomyname\n",
      "String is not a pangram\n"
     ]
    }
   ],
   "source": [
    "import re\n",
    "\n",
    "a = input(\"Enter the String: \")\n",
    "b = re.sub(r\"[^a-zA-Z]\",\"\",a)\n",
    "print(b)\n",
    "s1 = set(b)\n",
    "\n",
    "if len(s1) == 26:\n",
    "    print(\"String is a pangram\")\n",
    "else:\n",
    "    print(\"String is not a pangram\")"
   ]
  },
  {
   "cell_type": "code",
   "execution_count": null,
   "id": "43689f95",
   "metadata": {},
   "outputs": [],
   "source": []
  }
 ],
 "metadata": {
  "kernelspec": {
   "display_name": "Python 3 (ipykernel)",
   "language": "python",
   "name": "python3"
  },
  "language_info": {
   "codemirror_mode": {
    "name": "ipython",
    "version": 3
   },
   "file_extension": ".py",
   "mimetype": "text/x-python",
   "name": "python",
   "nbconvert_exporter": "python",
   "pygments_lexer": "ipython3",
   "version": "3.9.12"
  }
 },
 "nbformat": 4,
 "nbformat_minor": 5
}
