{
 "cells": [
  {
   "cell_type": "markdown",
   "id": "cf6b3a17",
   "metadata": {},
   "source": [
    "# Program to perform following operations\n",
    "## 1. Print the list of prime numbers upto 50"
   ]
  },
  {
   "cell_type": "code",
   "execution_count": 13,
   "id": "c5932d3f",
   "metadata": {},
   "outputs": [
    {
     "name": "stdout",
     "output_type": "stream",
     "text": [
      "[2, 3, 5, 7, 11, 13, 17, 19, 23, 29, 31, 37, 41, 43, 47]\n"
     ]
    }
   ],
   "source": [
    "def prime_number():\n",
    "    l = []\n",
    "    for i in range(2,50):\n",
    "        count = 0\n",
    "        for j in range(2,i):\n",
    "            if i % j == 0:\n",
    "                count = 1\n",
    "                break\n",
    "        \n",
    "        if count != 1:\n",
    "          l.append(i) \n",
    "    return l\n",
    "\n",
    "l = prime_number()\n",
    "print(l)"
   ]
  },
  {
   "cell_type": "markdown",
   "id": "3db736fe",
   "metadata": {},
   "source": [
    "## 2. Insert an integer at given index"
   ]
  },
  {
   "cell_type": "code",
   "execution_count": 14,
   "id": "2e244ad8",
   "metadata": {},
   "outputs": [
    {
     "name": "stdout",
     "output_type": "stream",
     "text": [
      "Enter the index: 3\n",
      "Enter the value: 98\n",
      "[2, 3, 5, 98, 7, 11, 13, 17, 19, 23, 29, 31, 37, 41, 43, 47]\n"
     ]
    }
   ],
   "source": [
    "index = int(input(\"Enter the index: \"))\n",
    "value = int(input(\"Enter the value: \"))\n",
    "\n",
    "l.insert(index,value)\n",
    "\n",
    "print(l)"
   ]
  },
  {
   "cell_type": "markdown",
   "id": "907703f5",
   "metadata": {},
   "source": [
    "## 3. Remove the element from the list"
   ]
  },
  {
   "cell_type": "code",
   "execution_count": 15,
   "id": "a251c7d0",
   "metadata": {},
   "outputs": [
    {
     "name": "stdout",
     "output_type": "stream",
     "text": [
      "[2, 3, 5, 7, 11, 13, 17, 19, 23, 29, 31, 37, 41, 43, 47]\n"
     ]
    }
   ],
   "source": [
    "l.remove(value)\n",
    "print(l)"
   ]
  },
  {
   "cell_type": "markdown",
   "id": "83b81c61",
   "metadata": {},
   "source": [
    "## 4. Sort the list"
   ]
  },
  {
   "cell_type": "code",
   "execution_count": 16,
   "id": "e928c355",
   "metadata": {},
   "outputs": [
    {
     "name": "stdout",
     "output_type": "stream",
     "text": [
      "[2, 3, 5, 7, 11, 13, 17, 19, 23, 29, 31, 37, 41, 43, 47]\n"
     ]
    }
   ],
   "source": [
    "l.sort()\n",
    "print(l)"
   ]
  },
  {
   "cell_type": "markdown",
   "id": "7793c85c",
   "metadata": {},
   "source": [
    "## 5. Pop the element"
   ]
  },
  {
   "cell_type": "code",
   "execution_count": 5,
   "id": "cf25eccc",
   "metadata": {},
   "outputs": [
    {
     "name": "stdout",
     "output_type": "stream",
     "text": [
      "[2, 3, 5, 7, 11, 13, 17, 19, 23, 29, 31, 37, 41, 43]\n"
     ]
    }
   ],
   "source": [
    "l.pop(len(l)-1)\n",
    "print(l)"
   ]
  },
  {
   "cell_type": "markdown",
   "id": "e49ab6e8",
   "metadata": {},
   "source": [
    "## 6. Reverse the list"
   ]
  },
  {
   "cell_type": "code",
   "execution_count": 6,
   "id": "68ea9ce0",
   "metadata": {},
   "outputs": [
    {
     "name": "stdout",
     "output_type": "stream",
     "text": [
      "[43, 41, 37, 31, 29, 23, 19, 17, 13, 11, 7, 5, 3, 2]\n"
     ]
    }
   ],
   "source": [
    "l.reverse()\n",
    "print(l)"
   ]
  },
  {
   "cell_type": "markdown",
   "id": "1aff3457",
   "metadata": {},
   "source": [
    "## 7. Print Largest & Second Largest element"
   ]
  },
  {
   "cell_type": "code",
   "execution_count": 7,
   "id": "2fb18221",
   "metadata": {},
   "outputs": [
    {
     "name": "stdout",
     "output_type": "stream",
     "text": [
      "First Largest: 43\n",
      "Second Largest: 41\n"
     ]
    }
   ],
   "source": [
    "print(\"First Largest:\",l[0])\n",
    "print(\"Second Largest:\",l[1])"
   ]
  },
  {
   "cell_type": "markdown",
   "id": "b25d2fac",
   "metadata": {},
   "source": [
    "## 8. Count the number of vowels in a String using list"
   ]
  },
  {
   "cell_type": "code",
   "execution_count": 11,
   "id": "d76b4516",
   "metadata": {},
   "outputs": [
    {
     "name": "stdout",
     "output_type": "stream",
     "text": [
      "Enter the String: hello world\n",
      "Vowels in the string are: 3\n"
     ]
    }
   ],
   "source": [
    "st = input(\"Enter the String: \")\n",
    "st = st.lower()\n",
    "\n",
    "l1 = list(st)\n",
    "\n",
    "count = 0\n",
    "\n",
    "for i in l1:\n",
    "    if(i == 'a' or i == 'e' or i == 'i' or i == 'o' or i == 'u'):\n",
    "        count = count + 1\n",
    "    \n",
    "print(\"Vowels in the string are:\",count)"
   ]
  },
  {
   "cell_type": "code",
   "execution_count": null,
   "id": "1cc42301",
   "metadata": {},
   "outputs": [],
   "source": []
  }
 ],
 "metadata": {
  "kernelspec": {
   "display_name": "Python 3 (ipykernel)",
   "language": "python",
   "name": "python3"
  },
  "language_info": {
   "codemirror_mode": {
    "name": "ipython",
    "version": 3
   },
   "file_extension": ".py",
   "mimetype": "text/x-python",
   "name": "python",
   "nbconvert_exporter": "python",
   "pygments_lexer": "ipython3",
   "version": "3.9.12"
  }
 },
 "nbformat": 4,
 "nbformat_minor": 5
}
