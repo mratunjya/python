{
 "cells": [
  {
   "cell_type": "markdown",
   "id": "41798572",
   "metadata": {},
   "source": [
    "# Write a python program to check the string is a palindrome or not\n"
   ]
  },
  {
   "cell_type": "code",
   "execution_count": 3,
   "id": "b443bfd8",
   "metadata": {},
   "outputs": [],
   "source": [
    "# Function to check the string is a palindrome\n",
    "def is_palindrome(s):\n",
    "    result = s[::-1]\n",
    "    return (s==result)"
   ]
  },
  {
   "cell_type": "code",
   "execution_count": 5,
   "id": "2e88feae",
   "metadata": {},
   "outputs": [
    {
     "name": "stdout",
     "output_type": "stream",
     "text": [
      "Enter the String: akshay\n",
      "String is not a palindrome\n"
     ]
    }
   ],
   "source": [
    "# Inputing a string\n",
    "s = input(\"Enter the String: \") \n",
    "\n",
    "if (is_palindrome(s)):\n",
    "    print(\"String is a palindrome\")\n",
    "else:\n",
    "    print(\"String is not a palindrome\")"
   ]
  },
  {
   "cell_type": "markdown",
   "id": "32fd5145",
   "metadata": {},
   "source": [
    "# Write a python program to perform following string operations:"
   ]
  },
  {
   "cell_type": "code",
   "execution_count": 6,
   "id": "bdcf0348",
   "metadata": {},
   "outputs": [
    {
     "name": "stdout",
     "output_type": "stream",
     "text": [
      "Enter the String: hello world\n"
     ]
    }
   ],
   "source": [
    "st = input(\"Enter the String: \")"
   ]
  },
  {
   "cell_type": "markdown",
   "id": "50186071",
   "metadata": {},
   "source": [
    "## 1. Reverse the string"
   ]
  },
  {
   "cell_type": "code",
   "execution_count": 7,
   "id": "d76d15cf",
   "metadata": {},
   "outputs": [
    {
     "name": "stdout",
     "output_type": "stream",
     "text": [
      "\n",
      "Reverse of a String:  dlrow olleh\n"
     ]
    }
   ],
   "source": [
    "# Reversing the String\n",
    "print(\"\\nReverse of a String: \",st[::-1])"
   ]
  },
  {
   "cell_type": "markdown",
   "id": "84a54964",
   "metadata": {},
   "source": [
    "## 2. Lowercase the string"
   ]
  },
  {
   "cell_type": "code",
   "execution_count": 8,
   "id": "a6157bf1",
   "metadata": {},
   "outputs": [
    {
     "name": "stdout",
     "output_type": "stream",
     "text": [
      "\n",
      "Lowercase of the String: hello world\n"
     ]
    }
   ],
   "source": [
    "# Lower the String\n",
    "print(\"\\nLowercase of the String:\",st.lower())"
   ]
  },
  {
   "cell_type": "markdown",
   "id": "146bc992",
   "metadata": {},
   "source": [
    "## 3. Uppercase the string"
   ]
  },
  {
   "cell_type": "code",
   "execution_count": 9,
   "id": "13b9ce2a",
   "metadata": {},
   "outputs": [
    {
     "name": "stdout",
     "output_type": "stream",
     "text": [
      "\n",
      "Uppercase of the String: HELLO WORLD\n"
     ]
    }
   ],
   "source": [
    "# Upper the String\n",
    "print(\"\\nUppercase of the String:\",st.upper())"
   ]
  },
  {
   "cell_type": "markdown",
   "id": "87cc9c5f",
   "metadata": {},
   "source": [
    "## 4. Capatalize the string"
   ]
  },
  {
   "cell_type": "code",
   "execution_count": 10,
   "id": "6b6c4730",
   "metadata": {},
   "outputs": [
    {
     "name": "stdout",
     "output_type": "stream",
     "text": [
      "\n",
      "Capatalize of the String: Hello world\n"
     ]
    }
   ],
   "source": [
    "# Capatilize the String\n",
    "print(\"\\nCapatalize of the String:\",st.capitalize())"
   ]
  },
  {
   "cell_type": "markdown",
   "id": "31d86105",
   "metadata": {},
   "source": [
    "## 5. Title the string"
   ]
  },
  {
   "cell_type": "code",
   "execution_count": 11,
   "id": "02463ce1",
   "metadata": {},
   "outputs": [
    {
     "name": "stdout",
     "output_type": "stream",
     "text": [
      "\n",
      "Title of the String: Hello World\n"
     ]
    }
   ],
   "source": [
    "# Title the String\n",
    "print(\"\\nTitle of the String:\",st.title())"
   ]
  },
  {
   "cell_type": "markdown",
   "id": "beb569a9",
   "metadata": {},
   "source": [
    "## 6. Swapcase the string"
   ]
  },
  {
   "cell_type": "code",
   "execution_count": 18,
   "id": "92a81586",
   "metadata": {},
   "outputs": [
    {
     "name": "stdout",
     "output_type": "stream",
     "text": [
      "\n",
      "Swapcase of the String: HELLO WORLD\n"
     ]
    }
   ],
   "source": [
    "# Swapcase the String\n",
    "print(\"\\nSwapcase of the String:\",st.swapcase())"
   ]
  },
  {
   "cell_type": "markdown",
   "id": "27af11f2",
   "metadata": {},
   "source": [
    "## 7. Count the string"
   ]
  },
  {
   "cell_type": "code",
   "execution_count": 26,
   "id": "2cb4ab9c",
   "metadata": {},
   "outputs": [
    {
     "name": "stdout",
     "output_type": "stream",
     "text": [
      "Enter the word to count: l\n",
      "\n",
      "Count of l in the String: 3\n"
     ]
    }
   ],
   "source": [
    "# Count the String\n",
    "letter = input(\"Enter the word to count: \")\n",
    "print(\"\\nCount of\",letter,\"in the String:\",st.count(letter))"
   ]
  },
  {
   "cell_type": "markdown",
   "id": "0bdaf2dc",
   "metadata": {},
   "source": [
    "## 8. Spilt the string"
   ]
  },
  {
   "cell_type": "code",
   "execution_count": 28,
   "id": "dbd685d1",
   "metadata": {},
   "outputs": [
    {
     "name": "stdout",
     "output_type": "stream",
     "text": [
      "Enter the word where to split: w\n",
      "\n",
      "Split of string around w is: ['hello ', 'orld']\n"
     ]
    }
   ],
   "source": [
    "# Split the string\n",
    "\n",
    "letter = input(\"Enter the word where to split: \")\n",
    "print(\"\\nSplit of string around\",letter,\"is:\",st.split(letter))"
   ]
  },
  {
   "cell_type": "code",
   "execution_count": null,
   "id": "89f8d070",
   "metadata": {},
   "outputs": [],
   "source": []
  }
 ],
 "metadata": {
  "kernelspec": {
   "display_name": "Python 3 (ipykernel)",
   "language": "python",
   "name": "python3"
  },
  "language_info": {
   "codemirror_mode": {
    "name": "ipython",
    "version": 3
   },
   "file_extension": ".py",
   "mimetype": "text/x-python",
   "name": "python",
   "nbconvert_exporter": "python",
   "pygments_lexer": "ipython3",
   "version": "3.9.12"
  }
 },
 "nbformat": 4,
 "nbformat_minor": 5
}
