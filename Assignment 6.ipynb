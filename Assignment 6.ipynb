{
 "cells": [
  {
   "cell_type": "markdown",
   "id": "9920cdbe",
   "metadata": {},
   "source": [
    "# Write a python program for the following:\n",
    "\n",
    "## a. Print two square matrix of order 3 by taking input from the user"
   ]
  },
  {
   "cell_type": "code",
   "execution_count": 2,
   "id": "a63b51f1",
   "metadata": {},
   "outputs": [
    {
     "name": "stdout",
     "output_type": "stream",
     "text": [
      "Matrix 1:\n",
      "\n",
      " [[0 0 0]\n",
      " [0 0 0]\n",
      " [0 0 0]]\n",
      "\n",
      "Matrix 2:\n",
      "\n",
      " [[0 0 0]\n",
      " [0 0 0]\n",
      " [0 0 0]]\n"
     ]
    }
   ],
   "source": [
    "import numpy as np\n",
    "\n",
    "m1 = np.zeros((3,3), dtype=np.int64)\n",
    "m2 = np.zeros((3,3), dtype=np.int64)\n",
    "print(\"Matrix 1:\\n\\n\",m1)\n",
    "print(\"\\nMatrix 2:\\n\\n\",m2)"
   ]
  },
  {
   "cell_type": "code",
   "execution_count": 4,
   "id": "c76c0741",
   "metadata": {},
   "outputs": [
    {
     "name": "stdout",
     "output_type": "stream",
     "text": [
      "Enter the number for 1st Matrix: 1\n",
      "Enter the number for 1st Matrix: 2\n",
      "Enter the number for 1st Matrix: 3\n",
      "Enter the number for 1st Matrix: 4\n",
      "Enter the number for 1st Matrix: 5\n",
      "Enter the number for 1st Matrix: 6\n",
      "Enter the number for 1st Matrix: 7\n",
      "Enter the number for 1st Matrix: 8\n",
      "Enter the number for 1st Matrix: 9\n",
      "Enter the number for 2st Matrix: 1\n",
      "Enter the number for 2st Matrix: 2\n",
      "Enter the number for 2st Matrix: 3\n",
      "Enter the number for 2st Matrix: 4\n",
      "Enter the number for 2st Matrix: 5\n",
      "Enter the number for 2st Matrix: 6\n",
      "Enter the number for 2st Matrix: 7\n",
      "Enter the number for 2st Matrix: 8\n",
      "Enter the number for 2st Matrix: 9\n",
      "\n",
      "Matrix 1:\n",
      "\n",
      " [[1 2 3]\n",
      " [4 5 6]\n",
      " [7 8 9]]\n",
      "\n",
      "Matrix 2:\n",
      "\n",
      " [[1 2 3]\n",
      " [4 5 6]\n",
      " [7 8 9]]\n"
     ]
    }
   ],
   "source": [
    "for i in range(len(m1)):\n",
    "    for j in range(len(m1[0])):\n",
    "        m1[i][j] = int(input(\"Enter the number for 1st Matrix: \"))\n",
    "\n",
    "for i in range(len(m2)):\n",
    "    for j in range(len(m2[0])):\n",
    "        m2[i][j] = int(input(\"Enter the number for 2st Matrix: \"))\n",
    "\n",
    "\n",
    "print(\"\\nMatrix 1:\\n\\n\",m1)\n",
    "print(\"\\nMatrix 2:\\n\\n\",m2)"
   ]
  },
  {
   "cell_type": "markdown",
   "id": "3d5f644b",
   "metadata": {},
   "source": [
    "## Perform following operations using numpy functions:"
   ]
  },
  {
   "cell_type": "markdown",
   "id": "21c4f1d8",
   "metadata": {},
   "source": [
    "### 1. Addition"
   ]
  },
  {
   "cell_type": "code",
   "execution_count": 3,
   "id": "6aef8e55",
   "metadata": {},
   "outputs": [
    {
     "name": "stdout",
     "output_type": "stream",
     "text": [
      "[[ 2  4  6]\n",
      " [ 8 10 12]\n",
      " [14 16 18]]\n"
     ]
    }
   ],
   "source": [
    "add = np.add(m1,m2)\n",
    "print(add)"
   ]
  },
  {
   "cell_type": "markdown",
   "id": "b81ab244",
   "metadata": {},
   "source": [
    "### 2. Subtraction"
   ]
  },
  {
   "cell_type": "code",
   "execution_count": 4,
   "id": "e9a926cc",
   "metadata": {},
   "outputs": [
    {
     "name": "stdout",
     "output_type": "stream",
     "text": [
      "[[0 0 0]\n",
      " [0 0 0]\n",
      " [0 0 0]]\n"
     ]
    }
   ],
   "source": [
    "subtract = np.subtract(m1,m2)\n",
    "print(subtract)"
   ]
  },
  {
   "cell_type": "markdown",
   "id": "3c699d17",
   "metadata": {},
   "source": [
    "### 3. Multiplication"
   ]
  },
  {
   "cell_type": "code",
   "execution_count": 5,
   "id": "c9465325",
   "metadata": {},
   "outputs": [
    {
     "name": "stdout",
     "output_type": "stream",
     "text": [
      "[[ 1  4  9]\n",
      " [16 25 36]\n",
      " [49 64 81]]\n"
     ]
    }
   ],
   "source": [
    "multiply = np.multiply(m1,m2)\n",
    "print(multiply)"
   ]
  },
  {
   "cell_type": "markdown",
   "id": "0f709a25",
   "metadata": {},
   "source": [
    "### 4. Division"
   ]
  },
  {
   "cell_type": "code",
   "execution_count": 6,
   "id": "aee515a2",
   "metadata": {},
   "outputs": [
    {
     "name": "stdout",
     "output_type": "stream",
     "text": [
      "[[1. 1. 1.]\n",
      " [1. 1. 1.]\n",
      " [1. 1. 1.]]\n"
     ]
    }
   ],
   "source": [
    "Division = np.divide(m1,m2)\n",
    "print(Division)"
   ]
  },
  {
   "cell_type": "markdown",
   "id": "4c5f96bf",
   "metadata": {},
   "source": [
    "## c. Perform matrix multiplication using loop"
   ]
  },
  {
   "cell_type": "code",
   "execution_count": 9,
   "id": "1e8d3a01",
   "metadata": {},
   "outputs": [
    {
     "name": "stdout",
     "output_type": "stream",
     "text": [
      "[[ 30  36  42]\n",
      " [ 66  81  96]\n",
      " [102 126 150]]\n"
     ]
    }
   ],
   "source": [
    "m3 = np.zeros((3,3),dtype = np.int64)\n",
    "for i in range(3):\n",
    "    for j in range(3):\n",
    "        for k in range(3):\n",
    "            m3[i][j] = m3[i][j] + (m1[i][k]*m2[k][j])\n",
    "print(m3)"
   ]
  },
  {
   "cell_type": "markdown",
   "id": "aca8bdc1",
   "metadata": {},
   "source": [
    "## d. Perform matrix multiplication using numpy function"
   ]
  },
  {
   "cell_type": "code",
   "execution_count": 10,
   "id": "0e9a382d",
   "metadata": {},
   "outputs": [
    {
     "name": "stdout",
     "output_type": "stream",
     "text": [
      "[[ 30  36  42]\n",
      " [ 66  81  96]\n",
      " [102 126 150]]\n"
     ]
    }
   ],
   "source": [
    "matmul = m1 @ m2\n",
    "print(matmul)"
   ]
  },
  {
   "cell_type": "markdown",
   "id": "f04a5efe",
   "metadata": {},
   "source": [
    "## e. Print Transpose of both the matrix"
   ]
  },
  {
   "cell_type": "code",
   "execution_count": 11,
   "id": "0c5edf25",
   "metadata": {},
   "outputs": [
    {
     "name": "stdout",
     "output_type": "stream",
     "text": [
      "Transpose of Matrix1: \n",
      "\n",
      " [[1 4 7]\n",
      " [2 5 8]\n",
      " [3 6 9]]\n",
      "\n",
      "Transpose of Matrix2: \n",
      "\n",
      " [[1 4 7]\n",
      " [2 5 8]\n",
      " [3 6 9]]\n"
     ]
    }
   ],
   "source": [
    "m1_trans = np.transpose(m1)\n",
    "print(\"Transpose of Matrix1: \\n\\n\",m1_trans)\n",
    "\n",
    "m2_trans = np.transpose(m2)\n",
    "print(\"\\nTranspose of Matrix2: \\n\\n\",m2_trans)"
   ]
  },
  {
   "cell_type": "code",
   "execution_count": null,
   "id": "f89e6286",
   "metadata": {},
   "outputs": [],
   "source": []
  }
 ],
 "metadata": {
  "kernelspec": {
   "display_name": "Python 3 (ipykernel)",
   "language": "python",
   "name": "python3"
  },
  "language_info": {
   "codemirror_mode": {
    "name": "ipython",
    "version": 3
   },
   "file_extension": ".py",
   "mimetype": "text/x-python",
   "name": "python",
   "nbconvert_exporter": "python",
   "pygments_lexer": "ipython3",
   "version": "3.9.12"
  }
 },
 "nbformat": 4,
 "nbformat_minor": 5
}
